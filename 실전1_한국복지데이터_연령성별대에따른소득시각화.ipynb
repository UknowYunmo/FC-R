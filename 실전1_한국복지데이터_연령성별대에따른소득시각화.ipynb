{
 "cells": [
  {
   "cell_type": "code",
   "execution_count": 10,
   "metadata": {},
   "outputs": [
    {
     "name": "stderr",
     "output_type": "stream",
     "text": [
      "Warning message in read.spss(\"c://Users//user//desktop//RR//data_spss_Koweps2014.sav\", :\n",
      "\"c://Users//user//desktop//RR//data_spss_Koweps2014.sav: Compression bias (0) is not the usual value of 100\""
     ]
    },
    {
     "data": {
      "text/html": [
       "<ol class=list-inline>\n",
       "\t<li>7048</li>\n",
       "\t<li>1081</li>\n",
       "</ol>\n"
      ],
      "text/latex": [
       "\\begin{enumerate*}\n",
       "\\item 7048\n",
       "\\item 1081\n",
       "\\end{enumerate*}\n"
      ],
      "text/markdown": [
       "1. 7048\n",
       "2. 1081\n",
       "\n",
       "\n"
      ],
      "text/plain": [
       "[1] 7048 1081"
      ]
     },
     "metadata": {},
     "output_type": "display_data"
    },
    {
     "data": {
      "text/html": [
       "<table>\n",
       "<thead><tr><th scope=col>h09_id</th><th scope=col>h09_ind</th><th scope=col>h09_sn</th><th scope=col>h09_merkey</th><th scope=col>h_new</th><th scope=col>h09_cobf</th><th scope=col>h09_ws</th><th scope=col>h09_wg</th><th scope=col>h09_reg5</th><th scope=col>h09_reg7</th><th scope=col>...</th><th scope=col>h0916_56</th><th scope=col>h0916_60</th><th scope=col>h0916_64</th><th scope=col>h0917_1</th><th scope=col>h0917_2</th><th scope=col>h0917_3</th><th scope=col>h0917_4</th><th scope=col>h0917_5</th><th scope=col>h0917_6</th><th scope=col>h0917_7</th></tr></thead>\n",
       "<tbody>\n",
       "\t<tr><td>1        </td><td>1        </td><td>1        </td><td>10101    </td><td>0        </td><td>NA       </td><td>0.3722699</td><td> 961.6440</td><td>1        </td><td>1        </td><td>...      </td><td>NA       </td><td>NA       </td><td>NA       </td><td>7        </td><td> 4       </td><td>4        </td><td>3        </td><td>2        </td><td>3        </td><td>2        </td></tr>\n",
       "\t<tr><td>2        </td><td>1        </td><td>1        </td><td>20101    </td><td>0        </td><td>NA       </td><td>0.5174442</td><td>1336.6571</td><td>1        </td><td>1        </td><td>...      </td><td>NA       </td><td>NA       </td><td>NA       </td><td>0        </td><td>NA       </td><td>3        </td><td>1        </td><td>4        </td><td>2        </td><td>1        </td></tr>\n",
       "\t<tr><td>3        </td><td>1        </td><td>1        </td><td>30101    </td><td>0        </td><td>NA       </td><td>0.6073695</td><td>1568.9513</td><td>1        </td><td>1        </td><td>...      </td><td>NA       </td><td>NA       </td><td>NA       </td><td>0        </td><td>NA       </td><td>2        </td><td>1        </td><td>1        </td><td>1        </td><td>1        </td></tr>\n",
       "\t<tr><td>4        </td><td>1        </td><td>1        </td><td>40101    </td><td>0        </td><td>NA       </td><td>0.3568641</td><td> 921.8481</td><td>1        </td><td>1        </td><td>...      </td><td>NA       </td><td>NA       </td><td>NA       </td><td>0        </td><td>NA       </td><td>2        </td><td>1        </td><td>2        </td><td>2        </td><td>1        </td></tr>\n",
       "\t<tr><td>6        </td><td>1        </td><td>1        </td><td>60101    </td><td>0        </td><td>NA       </td><td>0.4652189</td><td>1201.7490</td><td>1        </td><td>1        </td><td>...      </td><td>NA       </td><td>NA       </td><td>NA       </td><td>0        </td><td>NA       </td><td>4        </td><td>1        </td><td>3        </td><td>3        </td><td>1        </td></tr>\n",
       "\t<tr><td>7        </td><td>1        </td><td>1        </td><td>70101    </td><td>0        </td><td>NA       </td><td>0.2478946</td><td> 640.3591</td><td>4        </td><td>7        </td><td>...      </td><td>NA       </td><td>NA       </td><td>NA       </td><td>0        </td><td>NA       </td><td>1        </td><td>1        </td><td>4        </td><td>1        </td><td>1        </td></tr>\n",
       "</tbody>\n",
       "</table>\n"
      ],
      "text/latex": [
       "\\begin{tabular}{r|lllllllllllllllllllllllllllllllllllllllllllllllllllllllllllllllllllllllllllllllllllllllllllllllllllllllllllllllllllllllllllllllllllllllllllllllllllllllllllllllllllllllllllllllllllllllllllllllllllllllllllllllllllllllllllllllllllllllllllllllllllllllllllllllllllllllllllllllllllllllllllllllllllllllllllllllllllllllllllllllllllllllllllllllllllllllllllllllllllllllllllllllllllllllllllllllllllllllllllllllllllllllllllllllllllllllllllllllllllllllllllllllllllllllllllllllllllllllllllllllllllllllllllllllllllllllllllllllllllllllllllllllllllllllllllllllllllllllllllllllllllllllllllllllllllllllllllllllllllllllllllllllllllllllllllllllllllllllllllllllllllllllllllllllllllllllllllllllllllllllllllllllllllllllllllllllllllllllllllllllllllllllllllllllllllllllllllllllllllllllllllllllllllllllllllllllllllllllllllllllllllllllllllllllllllllllllllllllllllllllllllllllllllllllllllllllllllllllllllllllllllllllllllllllllllllllllllllllllllllllllllllllllllllllllllllllllllllllllllllllllllllllllllllllllllllllllllllllllllllllllllllllllllllllllllllllllllllllllllllllllllllllllllllllllllllllllllllllllllllllll}\n",
       " h09\\_id & h09\\_ind & h09\\_sn & h09\\_merkey & h\\_new & h09\\_cobf & h09\\_ws & h09\\_wg & h09\\_reg5 & h09\\_reg7 & ... & h0916\\_56 & h0916\\_60 & h0916\\_64 & h0917\\_1 & h0917\\_2 & h0917\\_3 & h0917\\_4 & h0917\\_5 & h0917\\_6 & h0917\\_7\\\\\n",
       "\\hline\n",
       "\t 1         & 1         & 1         & 10101     & 0         & NA        & 0.3722699 &  961.6440 & 1         & 1         & ...       & NA        & NA        & NA        & 7         &  4        & 4         & 3         & 2         & 3         & 2        \\\\\n",
       "\t 2         & 1         & 1         & 20101     & 0         & NA        & 0.5174442 & 1336.6571 & 1         & 1         & ...       & NA        & NA        & NA        & 0         & NA        & 3         & 1         & 4         & 2         & 1        \\\\\n",
       "\t 3         & 1         & 1         & 30101     & 0         & NA        & 0.6073695 & 1568.9513 & 1         & 1         & ...       & NA        & NA        & NA        & 0         & NA        & 2         & 1         & 1         & 1         & 1        \\\\\n",
       "\t 4         & 1         & 1         & 40101     & 0         & NA        & 0.3568641 &  921.8481 & 1         & 1         & ...       & NA        & NA        & NA        & 0         & NA        & 2         & 1         & 2         & 2         & 1        \\\\\n",
       "\t 6         & 1         & 1         & 60101     & 0         & NA        & 0.4652189 & 1201.7490 & 1         & 1         & ...       & NA        & NA        & NA        & 0         & NA        & 4         & 1         & 3         & 3         & 1        \\\\\n",
       "\t 7         & 1         & 1         & 70101     & 0         & NA        & 0.2478946 &  640.3591 & 4         & 7         & ...       & NA        & NA        & NA        & 0         & NA        & 1         & 1         & 4         & 1         & 1        \\\\\n",
       "\\end{tabular}\n"
      ],
      "text/markdown": [
       "\n",
       "| h09_id | h09_ind | h09_sn | h09_merkey | h_new | h09_cobf | h09_ws | h09_wg | h09_reg5 | h09_reg7 | ... | h0916_56 | h0916_60 | h0916_64 | h0917_1 | h0917_2 | h0917_3 | h0917_4 | h0917_5 | h0917_6 | h0917_7 |\n",
       "|---|---|---|---|---|---|---|---|---|---|---|---|---|---|---|---|---|---|---|---|---|\n",
       "| 1         | 1         | 1         | 10101     | 0         | NA        | 0.3722699 |  961.6440 | 1         | 1         | ...       | NA        | NA        | NA        | 7         |  4        | 4         | 3         | 2         | 3         | 2         |\n",
       "| 2         | 1         | 1         | 20101     | 0         | NA        | 0.5174442 | 1336.6571 | 1         | 1         | ...       | NA        | NA        | NA        | 0         | NA        | 3         | 1         | 4         | 2         | 1         |\n",
       "| 3         | 1         | 1         | 30101     | 0         | NA        | 0.6073695 | 1568.9513 | 1         | 1         | ...       | NA        | NA        | NA        | 0         | NA        | 2         | 1         | 1         | 1         | 1         |\n",
       "| 4         | 1         | 1         | 40101     | 0         | NA        | 0.3568641 |  921.8481 | 1         | 1         | ...       | NA        | NA        | NA        | 0         | NA        | 2         | 1         | 2         | 2         | 1         |\n",
       "| 6         | 1         | 1         | 60101     | 0         | NA        | 0.4652189 | 1201.7490 | 1         | 1         | ...       | NA        | NA        | NA        | 0         | NA        | 4         | 1         | 3         | 3         | 1         |\n",
       "| 7         | 1         | 1         | 70101     | 0         | NA        | 0.2478946 |  640.3591 | 4         | 7         | ...       | NA        | NA        | NA        | 0         | NA        | 1         | 1         | 4         | 1         | 1         |\n",
       "\n"
      ],
      "text/plain": [
       "  h09_id h09_ind h09_sn h09_merkey h_new h09_cobf h09_ws    h09_wg    h09_reg5\n",
       "1 1      1       1      10101      0     NA       0.3722699  961.6440 1       \n",
       "2 2      1       1      20101      0     NA       0.5174442 1336.6571 1       \n",
       "3 3      1       1      30101      0     NA       0.6073695 1568.9513 1       \n",
       "4 4      1       1      40101      0     NA       0.3568641  921.8481 1       \n",
       "5 6      1       1      60101      0     NA       0.4652189 1201.7490 1       \n",
       "6 7      1       1      70101      0     NA       0.2478946  640.3591 4       \n",
       "  h09_reg7 ... h0916_56 h0916_60 h0916_64 h0917_1 h0917_2 h0917_3 h0917_4\n",
       "1 1        ... NA       NA       NA       7        4      4       3      \n",
       "2 1        ... NA       NA       NA       0       NA      3       1      \n",
       "3 1        ... NA       NA       NA       0       NA      2       1      \n",
       "4 1        ... NA       NA       NA       0       NA      2       1      \n",
       "5 1        ... NA       NA       NA       0       NA      4       1      \n",
       "6 7        ... NA       NA       NA       0       NA      1       1      \n",
       "  h0917_5 h0917_6 h0917_7\n",
       "1 2       3       2      \n",
       "2 4       2       1      \n",
       "3 1       1       1      \n",
       "4 2       2       1      \n",
       "5 3       3       1      \n",
       "6 4       1       1      "
      ]
     },
     "metadata": {},
     "output_type": "display_data"
    }
   ],
   "source": [
    "#foreign패키지 설치 - 외부 데이터 읽는 패키지\n",
    "#foreign패키지 설치 - 외부 데이터 읽는 패키지\n",
    "library(foreign)\n",
    "library(dplyr)\n",
    "library(ggplot2)\n",
    "raw_welfare<-read.spss(\"c://Users//user//desktop//RR//data_spss_Koweps2014.sav\",to.data.frame=T)\n",
    "welfare<-raw_welfare\n",
    "dim(welfare)\n",
    "head(welfare)\n",
    "#summary(welfare)\n",
    "#View(welfare)"
   ]
  },
  {
   "cell_type": "code",
   "execution_count": 14,
   "metadata": {},
   "outputs": [
    {
     "data": {
      "text/html": [
       "'numeric'"
      ],
      "text/latex": [
       "'numeric'"
      ],
      "text/markdown": [
       "'numeric'"
      ],
      "text/plain": [
       "[1] \"numeric\""
      ]
     },
     "metadata": {},
     "output_type": "display_data"
    },
    {
     "data": {
      "text/plain": [
       "   Min. 1st Qu.  Median    Mean 3rd Qu.    Max. \n",
       "  1.000   1.000   1.000   1.309   2.000   2.000 "
      ]
     },
     "metadata": {},
     "output_type": "display_data"
    },
    {
     "data": {
      "text/plain": [
       "\n",
       "   1    2 \n",
       "4873 2175 "
      ]
     },
     "metadata": {},
     "output_type": "display_data"
    },
    {
     "data": {
      "text/plain": [
       "\n",
       "female   male \n",
       "  2175   4873 "
      ]
     },
     "metadata": {},
     "output_type": "display_data"
    },
    {
     "data": {
      "image/png": "[encoded data removed]",
      "text/plain": [
       "plot without title"
      ]
     },
     "metadata": {},
     "output_type": "display_data"
    }
   ],
   "source": [
    "#1 성별에 따른 소득 분석하기\n",
    "welfare<-rename(welfare,sex=h0901_4,birth=h0901_5,income=h09_din)\n",
    "class(welfare$sex) # 데이터의 속성 확인\n",
    "summary(welfare$sex)\n",
    "table(welfare$sex) # 이상치 확인\n",
    "welfare$sex<-ifelse(welfare$sex==1,\"male\",\"female\") # NUMERIC 대신 남성, 여성으로 정의\n",
    "table(welfare$sex)\n",
    "qplot(welfare$sex)\n",
    "# 확인해보면 남성의 비율이 여성보다 훨씬 높다\n",
    "# 왜 그럴까?\n",
    "# 위 조사 대상이 가구주의 성별인데, 가구주다 보니 남성이 높게 나타났다.\n",
    "# 즉 여성이 가구주인 경우는 1인 가구일 가능성이 높고,\n",
    "# 나머지 모든 경우 남성이 가구주로 나타났을 수 있겠다고 판단할 수 있다.\n",
    "# 그렇다면 데이터를 1인 가구만 한정시켜서 비교해야 한다."
   ]
  },
  {
   "cell_type": "code",
   "execution_count": 15,
   "metadata": {},
   "outputs": [
    {
     "data": {
      "text/html": [
       "'numeric'"
      ],
      "text/latex": [
       "'numeric'"
      ],
      "text/markdown": [
       "'numeric'"
      ],
      "text/plain": [
       "[1] \"numeric\""
      ]
     },
     "metadata": {},
     "output_type": "display_data"
    },
    {
     "data": {
      "text/plain": [
       "   Min. 1st Qu.  Median    Mean 3rd Qu.    Max. \n",
       " -20516    1108    2404    3336    4642  108888 "
      ]
     },
     "metadata": {},
     "output_type": "display_data"
    }
   ],
   "source": [
    "class(welfare$income)\n",
    "summary(welfare$income)\n",
    "#데이터를 보면, 최소값은 -20516 즉 약 -2억이다.\n",
    "#하지만 이는 가처분소득이기 때문에, 잘못 입력된 값이 아니다.\n",
    "#부채가 소득보다 낮기 때문에 - 값이 된 것이다.\n",
    "#그리고 평균이 3300만원으로 나타났는데, 이를 그대로 대한민국 평균의 소득은 3300만원이라는 결론을 내는 것은 적절하지 않다.\n",
    "#위 데이터에는 1인 가구도 있고, 가족구성원이 많은 경우도 모두 들어있다.\n",
    "#즉 10명이 같이 살면 10명의 소득이 모두 합쳐져있다.\n",
    "#그리고 소득이 없을 확률이 높은 80~90대 가구 등 다양한 경우가 있기 때문\n",
    "#따라서 데이터를 상황에 맞게 더 분류해서 결론을 내야한다."
   ]
  },
  {
   "cell_type": "code",
   "execution_count": 17,
   "metadata": {},
   "outputs": [
    {
     "name": "stderr",
     "output_type": "stream",
     "text": [
      "`stat_bin()` using `bins = 30`. Pick better value with `binwidth`.\n"
     ]
    },
    {
     "data": {
      "image/png": "[encoded data removed]",
      "text/plain": [
       "plot without title"
      ]
     },
     "metadata": {},
     "output_type": "display_data"
    }
   ],
   "source": [
    "qplot(welfare$income)\n",
    "#이렇게 보면 이상치 때문에 그래프가 고르게 분포되지 않는다."
   ]
  },
  {
   "cell_type": "code",
   "execution_count": 18,
   "metadata": {},
   "outputs": [
    {
     "name": "stderr",
     "output_type": "stream",
     "text": [
      "`stat_bin()` using `bins = 30`. Pick better value with `binwidth`.\n",
      "Warning message:\n",
      "\"Removed 255 rows containing non-finite values (stat_bin).\"Warning message:\n",
      "\"Removed 2 rows containing missing values (geom_bar).\""
     ]
    },
    {
     "data": {
      "image/png": "[encoded data removed]",
      "text/plain": [
       "plot without title"
      ]
     },
     "metadata": {},
     "output_type": "display_data"
    }
   ],
   "source": [
    "qplot(welfare$income)+xlim(0,10000)"
   ]
  },
  {
   "cell_type": "code",
   "execution_count": 19,
   "metadata": {},
   "outputs": [
    {
     "data": {
      "text/html": [
       "<table>\n",
       "<thead><tr><th scope=col>sex</th><th scope=col>mean_income</th></tr></thead>\n",
       "<tbody>\n",
       "\t<tr><td>female  </td><td>1581.255</td></tr>\n",
       "\t<tr><td>male    </td><td>4118.903</td></tr>\n",
       "</tbody>\n",
       "</table>\n"
      ],
      "text/latex": [
       "\\begin{tabular}{r|ll}\n",
       " sex & mean\\_income\\\\\n",
       "\\hline\n",
       "\t female   & 1581.255\\\\\n",
       "\t male     & 4118.903\\\\\n",
       "\\end{tabular}\n"
      ],
      "text/markdown": [
       "\n",
       "| sex | mean_income |\n",
       "|---|---|\n",
       "| female   | 1581.255 |\n",
       "| male     | 4118.903 |\n",
       "\n"
      ],
      "text/plain": [
       "  sex    mean_income\n",
       "1 female 1581.255   \n",
       "2 male   4118.903   "
      ]
     },
     "metadata": {},
     "output_type": "display_data"
    },
    {
     "data": {
      "image/png": "[encoded data removed]",
      "text/plain": [
       "plot without title"
      ]
     },
     "metadata": {},
     "output_type": "display_data"
    }
   ],
   "source": [
    "sex_income<-welfare %>% \n",
    "  group_by(sex) %>% \n",
    "  summarise(mean_income=mean(income))\n",
    "sex_income\n",
    "ggplot(data=sex_income,aes(x=sex,y=mean_income))+geom_col()\n",
    "#앞서 언급했듯, 이것이 여자-남자 소득 차이라고 설명할 수 없다.\n",
    "#조사 대상이 가구주이고, 1인 가구 대상도 아니기 때문에"
   ]
  },
  {
   "cell_type": "code",
   "execution_count": 22,
   "metadata": {
    "scrolled": true
   },
   "outputs": [
    {
     "data": {
      "text/html": [
       "'numeric'"
      ],
      "text/latex": [
       "'numeric'"
      ],
      "text/markdown": [
       "'numeric'"
      ],
      "text/plain": [
       "[1] \"numeric\""
      ]
     },
     "metadata": {},
     "output_type": "display_data"
    },
    {
     "data": {
      "text/plain": [
       "   Min. 1st Qu.  Median    Mean 3rd Qu.    Max. \n",
       "   1918    1940    1952    1953    1966    2002 "
      ]
     },
     "metadata": {},
     "output_type": "display_data"
    },
    {
     "name": "stderr",
     "output_type": "stream",
     "text": [
      "`stat_bin()` using `bins = 30`. Pick better value with `binwidth`.\n"
     ]
    },
    {
     "data": {
      "text/plain": [
       "\n",
       "FALSE \n",
       " 7048 "
      ]
     },
     "metadata": {},
     "output_type": "display_data"
    },
    {
     "data": {
      "image/png": "[encoded data removed]",
      "text/plain": [
       "plot without title"
      ]
     },
     "metadata": {},
     "output_type": "display_data"
    }
   ],
   "source": [
    "#조사 대상 연령대 분포 확인\n",
    "class(welfare$birth)\n",
    "summary(welfare$birth)\n",
    "qplot(welfare$birth)\n",
    "#나이 분포를 확인해보면 노년층의 비율이 높다.\n",
    "#애초에 조사 목적에 노년층의 특성을 반영하기 위함이 있었기 때문에 노년층 표집 비율을 높게 잡았기 때문\n",
    "#따라서 평균적으로 데이터가 노년층 특성이 더 반영되어있다는 것을 염두에 두어야한다.\n",
    "table(is.na(welfare$birth)) # 결측치 확인"
   ]
  },
  {
   "cell_type": "code",
   "execution_count": 24,
   "metadata": {},
   "outputs": [
    {
     "data": {
      "text/plain": [
       "   Min. 1st Qu.  Median    Mean 3rd Qu.    Max. \n",
       "  13.00   49.00   63.00   62.01   75.00   97.00 "
      ]
     },
     "metadata": {},
     "output_type": "display_data"
    },
    {
     "data": {
      "image/png": "[encoded data removed]",
      "text/plain": [
       "plot without title"
      ]
     },
     "metadata": {},
     "output_type": "display_data"
    },
    {
     "data": {
      "text/html": [
       "<table>\n",
       "<thead><tr><th scope=col>age</th><th scope=col>mean_income</th></tr></thead>\n",
       "<tbody>\n",
       "\t<tr><td>13      </td><td> 252.000</td></tr>\n",
       "\t<tr><td>20      </td><td>1094.900</td></tr>\n",
       "\t<tr><td>21      </td><td>2117.600</td></tr>\n",
       "\t<tr><td>22      </td><td>2656.000</td></tr>\n",
       "\t<tr><td>23      </td><td>1748.250</td></tr>\n",
       "\t<tr><td>24      </td><td>5429.600</td></tr>\n",
       "\t<tr><td>25      </td><td>2310.400</td></tr>\n",
       "\t<tr><td>26      </td><td>5273.371</td></tr>\n",
       "\t<tr><td>27      </td><td>3394.980</td></tr>\n",
       "\t<tr><td>28      </td><td>3061.222</td></tr>\n",
       "\t<tr><td>29      </td><td>6700.500</td></tr>\n",
       "\t<tr><td>30      </td><td>3829.348</td></tr>\n",
       "\t<tr><td>31      </td><td>4631.020</td></tr>\n",
       "\t<tr><td>32      </td><td>4120.498</td></tr>\n",
       "\t<tr><td>33      </td><td>4602.239</td></tr>\n",
       "\t<tr><td>34      </td><td>4890.444</td></tr>\n",
       "\t<tr><td>35      </td><td>6498.325</td></tr>\n",
       "\t<tr><td>36      </td><td>5183.624</td></tr>\n",
       "\t<tr><td>37      </td><td>5245.972</td></tr>\n",
       "\t<tr><td>38      </td><td>5339.953</td></tr>\n",
       "\t<tr><td>39      </td><td>4935.659</td></tr>\n",
       "\t<tr><td>40      </td><td>5451.059</td></tr>\n",
       "\t<tr><td>41      </td><td>5600.665</td></tr>\n",
       "\t<tr><td>42      </td><td>5028.280</td></tr>\n",
       "\t<tr><td>43      </td><td>5611.146</td></tr>\n",
       "\t<tr><td>44      </td><td>5915.021</td></tr>\n",
       "\t<tr><td>45      </td><td>4902.665</td></tr>\n",
       "\t<tr><td>46      </td><td>5151.220</td></tr>\n",
       "\t<tr><td>47      </td><td>4536.960</td></tr>\n",
       "\t<tr><td>48      </td><td>5095.573</td></tr>\n",
       "\t<tr><td>...</td><td>...</td></tr>\n",
       "\t<tr><td>68       </td><td>2480.3602</td></tr>\n",
       "\t<tr><td>69       </td><td>2541.8000</td></tr>\n",
       "\t<tr><td>70       </td><td>2450.2841</td></tr>\n",
       "\t<tr><td>71       </td><td>2225.1972</td></tr>\n",
       "\t<tr><td>72       </td><td>1929.1064</td></tr>\n",
       "\t<tr><td>73       </td><td>1791.0443</td></tr>\n",
       "\t<tr><td>74       </td><td>1823.9989</td></tr>\n",
       "\t<tr><td>75       </td><td>1840.8915</td></tr>\n",
       "\t<tr><td>76       </td><td>1619.7357</td></tr>\n",
       "\t<tr><td>77       </td><td>1472.0482</td></tr>\n",
       "\t<tr><td>78       </td><td>1594.6102</td></tr>\n",
       "\t<tr><td>79       </td><td>1393.5847</td></tr>\n",
       "\t<tr><td>80       </td><td>1286.4084</td></tr>\n",
       "\t<tr><td>81       </td><td>1307.8524</td></tr>\n",
       "\t<tr><td>82       </td><td>1262.2224</td></tr>\n",
       "\t<tr><td>83       </td><td>1294.1739</td></tr>\n",
       "\t<tr><td>84       </td><td>1027.0374</td></tr>\n",
       "\t<tr><td>85       </td><td>1169.5734</td></tr>\n",
       "\t<tr><td>86       </td><td>1278.5464</td></tr>\n",
       "\t<tr><td>87       </td><td>1158.0653</td></tr>\n",
       "\t<tr><td>88       </td><td>1022.4857</td></tr>\n",
       "\t<tr><td>89       </td><td>1150.9250</td></tr>\n",
       "\t<tr><td>90       </td><td> 974.3478</td></tr>\n",
       "\t<tr><td>91       </td><td>1270.5857</td></tr>\n",
       "\t<tr><td>92       </td><td> 713.3385</td></tr>\n",
       "\t<tr><td>93       </td><td> 696.6308</td></tr>\n",
       "\t<tr><td>94       </td><td>1545.5250</td></tr>\n",
       "\t<tr><td>95       </td><td> 828.5000</td></tr>\n",
       "\t<tr><td>96       </td><td>2041.0000</td></tr>\n",
       "\t<tr><td>97       </td><td>1109.0000</td></tr>\n",
       "</tbody>\n",
       "</table>\n"
      ],
      "text/latex": [
       "\\begin{tabular}{r|ll}\n",
       " age & mean\\_income\\\\\n",
       "\\hline\n",
       "\t 13       &  252.000\\\\\n",
       "\t 20       & 1094.900\\\\\n",
       "\t 21       & 2117.600\\\\\n",
       "\t 22       & 2656.000\\\\\n",
       "\t 23       & 1748.250\\\\\n",
       "\t 24       & 5429.600\\\\\n",
       "\t 25       & 2310.400\\\\\n",
       "\t 26       & 5273.371\\\\\n",
       "\t 27       & 3394.980\\\\\n",
       "\t 28       & 3061.222\\\\\n",
       "\t 29       & 6700.500\\\\\n",
       "\t 30       & 3829.348\\\\\n",
       "\t 31       & 4631.020\\\\\n",
       "\t 32       & 4120.498\\\\\n",
       "\t 33       & 4602.239\\\\\n",
       "\t 34       & 4890.444\\\\\n",
       "\t 35       & 6498.325\\\\\n",
       "\t 36       & 5183.624\\\\\n",
       "\t 37       & 5245.972\\\\\n",
       "\t 38       & 5339.953\\\\\n",
       "\t 39       & 4935.659\\\\\n",
       "\t 40       & 5451.059\\\\\n",
       "\t 41       & 5600.665\\\\\n",
       "\t 42       & 5028.280\\\\\n",
       "\t 43       & 5611.146\\\\\n",
       "\t 44       & 5915.021\\\\\n",
       "\t 45       & 4902.665\\\\\n",
       "\t 46       & 5151.220\\\\\n",
       "\t 47       & 4536.960\\\\\n",
       "\t 48       & 5095.573\\\\\n",
       "\t ... & ...\\\\\n",
       "\t 68        & 2480.3602\\\\\n",
       "\t 69        & 2541.8000\\\\\n",
       "\t 70        & 2450.2841\\\\\n",
       "\t 71        & 2225.1972\\\\\n",
       "\t 72        & 1929.1064\\\\\n",
       "\t 73        & 1791.0443\\\\\n",
       "\t 74        & 1823.9989\\\\\n",
       "\t 75        & 1840.8915\\\\\n",
       "\t 76        & 1619.7357\\\\\n",
       "\t 77        & 1472.0482\\\\\n",
       "\t 78        & 1594.6102\\\\\n",
       "\t 79        & 1393.5847\\\\\n",
       "\t 80        & 1286.4084\\\\\n",
       "\t 81        & 1307.8524\\\\\n",
       "\t 82        & 1262.2224\\\\\n",
       "\t 83        & 1294.1739\\\\\n",
       "\t 84        & 1027.0374\\\\\n",
       "\t 85        & 1169.5734\\\\\n",
       "\t 86        & 1278.5464\\\\\n",
       "\t 87        & 1158.0653\\\\\n",
       "\t 88        & 1022.4857\\\\\n",
       "\t 89        & 1150.9250\\\\\n",
       "\t 90        &  974.3478\\\\\n",
       "\t 91        & 1270.5857\\\\\n",
       "\t 92        &  713.3385\\\\\n",
       "\t 93        &  696.6308\\\\\n",
       "\t 94        & 1545.5250\\\\\n",
       "\t 95        &  828.5000\\\\\n",
       "\t 96        & 2041.0000\\\\\n",
       "\t 97        & 1109.0000\\\\\n",
       "\\end{tabular}\n"
      ],
      "text/markdown": [
       "\n",
       "| age | mean_income |\n",
       "|---|---|\n",
       "| 13       |  252.000 |\n",
       "| 20       | 1094.900 |\n",
       "| 21       | 2117.600 |\n",
       "| 22       | 2656.000 |\n",
       "| 23       | 1748.250 |\n",
       "| 24       | 5429.600 |\n",
       "| 25       | 2310.400 |\n",
       "| 26       | 5273.371 |\n",
       "| 27       | 3394.980 |\n",
       "| 28       | 3061.222 |\n",
       "| 29       | 6700.500 |\n",
       "| 30       | 3829.348 |\n",
       "| 31       | 4631.020 |\n",
       "| 32       | 4120.498 |\n",
       "| 33       | 4602.239 |\n",
       "| 34       | 4890.444 |\n",
       "| 35       | 6498.325 |\n",
       "| 36       | 5183.624 |\n",
       "| 37       | 5245.972 |\n",
       "| 38       | 5339.953 |\n",
       "| 39       | 4935.659 |\n",
       "| 40       | 5451.059 |\n",
       "| 41       | 5600.665 |\n",
       "| 42       | 5028.280 |\n",
       "| 43       | 5611.146 |\n",
       "| 44       | 5915.021 |\n",
       "| 45       | 4902.665 |\n",
       "| 46       | 5151.220 |\n",
       "| 47       | 4536.960 |\n",
       "| 48       | 5095.573 |\n",
       "| ... | ... |\n",
       "| 68        | 2480.3602 |\n",
       "| 69        | 2541.8000 |\n",
       "| 70        | 2450.2841 |\n",
       "| 71        | 2225.1972 |\n",
       "| 72        | 1929.1064 |\n",
       "| 73        | 1791.0443 |\n",
       "| 74        | 1823.9989 |\n",
       "| 75        | 1840.8915 |\n",
       "| 76        | 1619.7357 |\n",
       "| 77        | 1472.0482 |\n",
       "| 78        | 1594.6102 |\n",
       "| 79        | 1393.5847 |\n",
       "| 80        | 1286.4084 |\n",
       "| 81        | 1307.8524 |\n",
       "| 82        | 1262.2224 |\n",
       "| 83        | 1294.1739 |\n",
       "| 84        | 1027.0374 |\n",
       "| 85        | 1169.5734 |\n",
       "| 86        | 1278.5464 |\n",
       "| 87        | 1158.0653 |\n",
       "| 88        | 1022.4857 |\n",
       "| 89        | 1150.9250 |\n",
       "| 90        |  974.3478 |\n",
       "| 91        | 1270.5857 |\n",
       "| 92        |  713.3385 |\n",
       "| 93        |  696.6308 |\n",
       "| 94        | 1545.5250 |\n",
       "| 95        |  828.5000 |\n",
       "| 96        | 2041.0000 |\n",
       "| 97        | 1109.0000 |\n",
       "\n"
      ],
      "text/plain": [
       "    age mean_income\n",
       "1   13   252.000   \n",
       "2   20  1094.900   \n",
       "3   21  2117.600   \n",
       "4   22  2656.000   \n",
       "5   23  1748.250   \n",
       "6   24  5429.600   \n",
       "7   25  2310.400   \n",
       "8   26  5273.371   \n",
       "9   27  3394.980   \n",
       "10  28  3061.222   \n",
       "11  29  6700.500   \n",
       "12  30  3829.348   \n",
       "13  31  4631.020   \n",
       "14  32  4120.498   \n",
       "15  33  4602.239   \n",
       "16  34  4890.444   \n",
       "17  35  6498.325   \n",
       "18  36  5183.624   \n",
       "19  37  5245.972   \n",
       "20  38  5339.953   \n",
       "21  39  4935.659   \n",
       "22  40  5451.059   \n",
       "23  41  5600.665   \n",
       "24  42  5028.280   \n",
       "25  43  5611.146   \n",
       "26  44  5915.021   \n",
       "27  45  4902.665   \n",
       "28  46  5151.220   \n",
       "29  47  4536.960   \n",
       "30  48  5095.573   \n",
       "... ... ...        \n",
       "50  68  2480.3602  \n",
       "51  69  2541.8000  \n",
       "52  70  2450.2841  \n",
       "53  71  2225.1972  \n",
       "54  72  1929.1064  \n",
       "55  73  1791.0443  \n",
       "56  74  1823.9989  \n",
       "57  75  1840.8915  \n",
       "58  76  1619.7357  \n",
       "59  77  1472.0482  \n",
       "60  78  1594.6102  \n",
       "61  79  1393.5847  \n",
       "62  80  1286.4084  \n",
       "63  81  1307.8524  \n",
       "64  82  1262.2224  \n",
       "65  83  1294.1739  \n",
       "66  84  1027.0374  \n",
       "67  85  1169.5734  \n",
       "68  86  1278.5464  \n",
       "69  87  1158.0653  \n",
       "70  88  1022.4857  \n",
       "71  89  1150.9250  \n",
       "72  90   974.3478  \n",
       "73  91  1270.5857  \n",
       "74  92   713.3385  \n",
       "75  93   696.6308  \n",
       "76  94  1545.5250  \n",
       "77  95   828.5000  \n",
       "78  96  2041.0000  \n",
       "79  97  1109.0000  "
      ]
     },
     "metadata": {},
     "output_type": "display_data"
    },
    {
     "data": {
      "image/png": "[encoded data removed]",
      "text/plain": [
       "plot without title"
      ]
     },
     "metadata": {},
     "output_type": "display_data"
    }
   ],
   "source": [
    "#탄생년도 데이터를 나이 데이터로 변환하기\n",
    "welfare$age<-2014-welfare$birth+1\n",
    "summary(welfare$age)\n",
    "#나이별 소득 평균 분석\n",
    "age_income<-welfare %>%\n",
    "  group_by(age) %>% \n",
    "  summarise(mean_income=mean(income))\n",
    "ggplot(data=age_income,aes(x=age,y=mean_income))+geom_point()\n",
    "ggplot(data=age_income,aes(x=age,y=mean_income))+geom_line()\n",
    "#이 때 주의할 사항#\n",
    "age_income\n",
    "#13,80,81과 같은 표본이 많지 않은 경우는 어떨까?\n",
    "#만약 표본이 1명..30명 이런 경우, 우리나라의 전체 13세를 대표한다고 할 수 없다.\n",
    "#따라서 표본이 적다고 예상될 경우, grouping을 해주는 것도 방법이다.\n",
    "#아예 10대, 20대, 80대 이렇게 총합을 구해서 하면 표본이 확보될 것이다."
   ]
  },
  {
   "cell_type": "code",
   "execution_count": 25,
   "metadata": {},
   "outputs": [
    {
     "data": {
      "text/plain": [
       "\n",
       "middle    old  young \n",
       "  3004   3979     65 "
      ]
     },
     "metadata": {},
     "output_type": "display_data"
    },
    {
     "data": {
      "image/png": "[encoded data removed]",
      "text/plain": [
       "plot without title"
      ]
     },
     "metadata": {},
     "output_type": "display_data"
    }
   ],
   "source": [
    "#연령대 따라 나누기 ( ~20대 = young, 30~50대 = middle, 60대~ = old)\n",
    "welfare<-welfare %>% \n",
    "  mutate(ageg=ifelse(age<30,\"young\",ifelse(age<=59,\"middle\",\"old\")))\n",
    "table(welfare$ageg)\n",
    "qplot(welfare$ageg)\n",
    "#이렇게 묶어봐도 30대 이하의 가구주의 경우 너무 적게 나타나기 때문에 대표성을 위해 제거하는 것이 바람직하다는 판단이 가능하다."
   ]
  },
  {
   "cell_type": "code",
   "execution_count": 26,
   "metadata": {},
   "outputs": [
    {
     "data": {
      "text/html": [
       "<table>\n",
       "<thead><tr><th scope=col>ageg</th><th scope=col>mean_income</th></tr></thead>\n",
       "<tbody>\n",
       "\t<tr><td>middle  </td><td>5017.822</td></tr>\n",
       "\t<tr><td>old     </td><td>2049.348</td></tr>\n",
       "</tbody>\n",
       "</table>\n"
      ],
      "text/latex": [
       "\\begin{tabular}{r|ll}\n",
       " ageg & mean\\_income\\\\\n",
       "\\hline\n",
       "\t middle   & 5017.822\\\\\n",
       "\t old      & 2049.348\\\\\n",
       "\\end{tabular}\n"
      ],
      "text/markdown": [
       "\n",
       "| ageg | mean_income |\n",
       "|---|---|\n",
       "| middle   | 5017.822 |\n",
       "| old      | 2049.348 |\n",
       "\n"
      ],
      "text/plain": [
       "  ageg   mean_income\n",
       "1 middle 5017.822   \n",
       "2 old    2049.348   "
      ]
     },
     "metadata": {},
     "output_type": "display_data"
    },
    {
     "data": {
      "image/png": "[encoded data removed]",
      "text/plain": [
       "plot without title"
      ]
     },
     "metadata": {},
     "output_type": "display_data"
    }
   ],
   "source": [
    "#young 연령대를 제거하고 분석\n",
    "welfare_income<-welfare %>% \n",
    "  filter(ageg!=\"young\") %>% \n",
    "  group_by(ageg) %>% \n",
    "  summarise(mean_income=mean(income))\n",
    "\n",
    "welfare_income\n",
    "ggplot(data=welfare_income,aes(x=ageg,y=mean_income))+geom_col()"
   ]
  },
  {
   "cell_type": "code",
   "execution_count": 27,
   "metadata": {},
   "outputs": [
    {
     "data": {
      "text/html": [
       "<table>\n",
       "<thead><tr><th scope=col>ageg</th><th scope=col>sex</th><th scope=col>mean_income</th></tr></thead>\n",
       "<tbody>\n",
       "\t<tr><td>middle  </td><td>female  </td><td>2868.804</td></tr>\n",
       "\t<tr><td>middle  </td><td>male    </td><td>5420.444</td></tr>\n",
       "\t<tr><td>old     </td><td>female  </td><td>1179.192</td></tr>\n",
       "\t<tr><td>old     </td><td>male    </td><td>2674.162</td></tr>\n",
       "</tbody>\n",
       "</table>\n"
      ],
      "text/latex": [
       "\\begin{tabular}{r|lll}\n",
       " ageg & sex & mean\\_income\\\\\n",
       "\\hline\n",
       "\t middle   & female   & 2868.804\\\\\n",
       "\t middle   & male     & 5420.444\\\\\n",
       "\t old      & female   & 1179.192\\\\\n",
       "\t old      & male     & 2674.162\\\\\n",
       "\\end{tabular}\n"
      ],
      "text/markdown": [
       "\n",
       "| ageg | sex | mean_income |\n",
       "|---|---|---|\n",
       "| middle   | female   | 2868.804 |\n",
       "| middle   | male     | 5420.444 |\n",
       "| old      | female   | 1179.192 |\n",
       "| old      | male     | 2674.162 |\n",
       "\n"
      ],
      "text/plain": [
       "  ageg   sex    mean_income\n",
       "1 middle female 2868.804   \n",
       "2 middle male   5420.444   \n",
       "3 old    female 1179.192   \n",
       "4 old    male   2674.162   "
      ]
     },
     "metadata": {},
     "output_type": "display_data"
    },
    {
     "data": {
      "image/png": "[encoded data removed]",
      "text/plain": [
       "plot without title"
      ]
     },
     "metadata": {},
     "output_type": "display_data"
    },
    {
     "data": {
      "image/png": "[encoded data removed]",
      "text/plain": [
       "plot without title"
      ]
     },
     "metadata": {},
     "output_type": "display_data"
    }
   ],
   "source": [
    "#연령대 및 성별에 따른 소득\n",
    "#일단 young은 대표성이 없다는 것을 알았으니 제거하고 진행\n",
    "sex_income<-welfare %>% \n",
    "  filter(ageg!=\"young\") %>% \n",
    "  group_by(ageg,sex) %>% \n",
    "  summarise(mean_income=mean(income))\n",
    "sex_income\n",
    "ggplot(data=sex_income,aes(x=ageg,y=mean_income,fill=sex))+geom_col()\n",
    "ggplot(data=sex_income,aes(x=ageg,y=mean_income,fill=sex))+geom_col(position=\"dodge\")"
   ]
  }
 ],
 "metadata": {
  "kernelspec": {
   "display_name": "R",
   "language": "R",
   "name": "ir"
  },
  "language_info": {
   "codemirror_mode": "r",
   "file_extension": ".r",
   "mimetype": "text/x-r-source",
   "name": "R",
   "pygments_lexer": "r",
   "version": "3.6.1"
  }
 },
 "nbformat": 4,
 "nbformat_minor": 4
}
